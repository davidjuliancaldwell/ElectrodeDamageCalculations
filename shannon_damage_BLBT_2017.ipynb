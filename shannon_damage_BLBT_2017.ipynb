{
 "cells": [
  {
   "cell_type": "markdown",
   "metadata": {},
   "source": [
    "## DJC - Shannon equation calculations for beta stim paper"
   ]
  },
  {
   "cell_type": "markdown",
   "metadata": {},
   "source": [
    "### 1. Cogan SF, Ludwig KA, Welle CG, Takmakov P. Tissue damage thresholds during therapeutic electrical stimulation. J Neural Eng. 2016;13(2):21001. doi:10.1088/1741-2560/13/2/021001."
   ]
  },
  {
   "cell_type": "markdown",
   "metadata": {},
   "source": [
    "### shannon equation\n",
    "### $log(D) = k - log(Q)$\n",
    "### $k = 1.85$\n",
    "### charge density = D, charge per phase = Q \n",
    "\n",
    "### we are in the macro region according to the article (> 30 micron diamater) \n",
    "\n",
    "### exposed diameter = 1.75 mm, so 0.175 cm\n",
    "\n",
    "### max current was 4000 uA = 4000e-6 A\n",
    "\n",
    "### time per phase, 5 ms, so 5e-3 s\n",
    "\n",
    "### tissue damage threshold of $30 \\mu C/cm^{2}$"
   ]
  },
  {
   "cell_type": "code",
   "execution_count": 5,
   "metadata": {},
   "outputs": [
    {
     "name": "stdout",
     "output_type": "stream",
     "text": [
      "the charge per phase is 20.0 uC\n",
      "the charge per phase is 1.30102999566 log10 uC\n",
      "the charge density is 831.503376154 uC/cm^2\n",
      "the charge per phase is 2.91986401693 log10 uC/cm^2\n"
     ]
    }
   ],
   "source": [
    "import numpy as np\n",
    "\n",
    "r = 0.175/2\n",
    "area = np.pi*(r**2)\n",
    "\n",
    "max_current = 4000\n",
    "time_per_phase = 5e-3\n",
    "\n",
    "charge_per_phase= time_per_phase*max_current\n",
    "print('the charge per phase is {} uC'.format(charge_per_phase))\n",
    "\n",
    "# look at log10 like 2016 paper \n",
    "print('the charge per phase is {} log10 uC'.format(np.log10(charge_per_phase)))\n",
    "\n",
    "# look at charge/cm^2\n",
    "\n",
    "# charge density\n",
    "\n",
    "charge_density = charge_per_phase/area\n",
    "\n",
    "print('the charge density is {} uC/cm^2'.format(charge_density))\n",
    "\n",
    "# look at log10 \n",
    "\n",
    "print ('the charge per phase is {} log10 uC/cm^2'.format(np.log10(charge_density)))"
   ]
  },
  {
   "cell_type": "code",
   "execution_count": 3,
   "metadata": {
    "collapsed": true
   },
   "outputs": [],
   "source": [
    "%qtconsole"
   ]
  },
  {
   "cell_type": "code",
   "execution_count": 4,
   "metadata": {},
   "outputs": [
    {
     "data": {
      "text/plain": [
       "2.405281875404685"
      ]
     },
     "execution_count": 4,
     "metadata": {},
     "output_type": "execute_result"
    }
   ],
   "source": [
    "r = 1.75/2\n",
    "area = np.pi*(r**2)\n",
    "area"
   ]
  },
  {
   "cell_type": "markdown",
   "metadata": {
    "collapsed": true
   },
   "source": []
  }
 ],
 "metadata": {
  "kernelspec": {
   "display_name": "Python 2",
   "language": "python",
   "name": "python2"
  },
  "language_info": {
   "codemirror_mode": {
    "name": "ipython",
    "version": 2
   },
   "file_extension": ".py",
   "mimetype": "text/x-python",
   "name": "python",
   "nbconvert_exporter": "python",
   "pygments_lexer": "ipython2",
   "version": "2.7.13"
  }
 },
 "nbformat": 4,
 "nbformat_minor": 2
}
