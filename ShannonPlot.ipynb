{
 "cells": [
  {
   "cell_type": "code",
   "execution_count": 26,
   "metadata": {},
   "outputs": [
    {
     "data": {
      "text/html": [
       "\n",
       "    <div class=\"bk-root\">\n",
       "        <a href=\"http://bokeh.pydata.org\" target=\"_blank\" class=\"bk-logo bk-logo-small bk-logo-notebook\"></a>\n",
       "        <span id=\"728d73f9-5bfd-45e7-9b65-e4607ed79786\">Loading BokehJS ...</span>\n",
       "    </div>"
      ]
     },
     "metadata": {},
     "output_type": "display_data"
    },
    {
     "data": {
      "application/javascript": [
       "\n",
       "(function(global) {\n",
       "  function now() {\n",
       "    return new Date();\n",
       "  }\n",
       "\n",
       "  var force = true;\n",
       "\n",
       "  if (typeof (window._bokeh_onload_callbacks) === \"undefined\" || force === true) {\n",
       "    window._bokeh_onload_callbacks = [];\n",
       "    window._bokeh_is_loading = undefined;\n",
       "  }\n",
       "\n",
       "\n",
       "  \n",
       "  if (typeof (window._bokeh_timeout) === \"undefined\" || force === true) {\n",
       "    window._bokeh_timeout = Date.now() + 5000;\n",
       "    window._bokeh_failed_load = false;\n",
       "  }\n",
       "\n",
       "  var NB_LOAD_WARNING = {'data': {'text/html':\n",
       "     \"<div style='background-color: #fdd'>\\n\"+\n",
       "     \"<p>\\n\"+\n",
       "     \"BokehJS does not appear to have successfully loaded. If loading BokehJS from CDN, this \\n\"+\n",
       "     \"may be due to a slow or bad network connection. Possible fixes:\\n\"+\n",
       "     \"</p>\\n\"+\n",
       "     \"<ul>\\n\"+\n",
       "     \"<li>re-rerun `output_notebook()` to attempt to load from CDN again, or</li>\\n\"+\n",
       "     \"<li>use INLINE resources instead, as so:</li>\\n\"+\n",
       "     \"</ul>\\n\"+\n",
       "     \"<code>\\n\"+\n",
       "     \"from bokeh.resources import INLINE\\n\"+\n",
       "     \"output_notebook(resources=INLINE)\\n\"+\n",
       "     \"</code>\\n\"+\n",
       "     \"</div>\"}};\n",
       "\n",
       "  function display_loaded() {\n",
       "    if (window.Bokeh !== undefined) {\n",
       "      document.getElementById(\"728d73f9-5bfd-45e7-9b65-e4607ed79786\").textContent = \"BokehJS successfully loaded.\";\n",
       "    } else if (Date.now() < window._bokeh_timeout) {\n",
       "      setTimeout(display_loaded, 100)\n",
       "    }\n",
       "  }\n",
       "\n",
       "  function run_callbacks() {\n",
       "    window._bokeh_onload_callbacks.forEach(function(callback) { callback() });\n",
       "    delete window._bokeh_onload_callbacks\n",
       "    console.info(\"Bokeh: all callbacks have finished\");\n",
       "  }\n",
       "\n",
       "  function load_libs(js_urls, callback) {\n",
       "    window._bokeh_onload_callbacks.push(callback);\n",
       "    if (window._bokeh_is_loading > 0) {\n",
       "      console.log(\"Bokeh: BokehJS is being loaded, scheduling callback at\", now());\n",
       "      return null;\n",
       "    }\n",
       "    if (js_urls == null || js_urls.length === 0) {\n",
       "      run_callbacks();\n",
       "      return null;\n",
       "    }\n",
       "    console.log(\"Bokeh: BokehJS not loaded, scheduling load and callback at\", now());\n",
       "    window._bokeh_is_loading = js_urls.length;\n",
       "    for (var i = 0; i < js_urls.length; i++) {\n",
       "      var url = js_urls[i];\n",
       "      var s = document.createElement('script');\n",
       "      s.src = url;\n",
       "      s.async = false;\n",
       "      s.onreadystatechange = s.onload = function() {\n",
       "        window._bokeh_is_loading--;\n",
       "        if (window._bokeh_is_loading === 0) {\n",
       "          console.log(\"Bokeh: all BokehJS libraries loaded\");\n",
       "          run_callbacks()\n",
       "        }\n",
       "      };\n",
       "      s.onerror = function() {\n",
       "        console.warn(\"failed to load library \" + url);\n",
       "      };\n",
       "      console.log(\"Bokeh: injecting script tag for BokehJS library: \", url);\n",
       "      document.getElementsByTagName(\"head\")[0].appendChild(s);\n",
       "    }\n",
       "  };var element = document.getElementById(\"728d73f9-5bfd-45e7-9b65-e4607ed79786\");\n",
       "  if (element == null) {\n",
       "    console.log(\"Bokeh: ERROR: autoload.js configured with elementid '728d73f9-5bfd-45e7-9b65-e4607ed79786' but no matching script tag was found. \")\n",
       "    return false;\n",
       "  }\n",
       "\n",
       "  var js_urls = [\"https://cdn.pydata.org/bokeh/release/bokeh-0.12.4.min.js\", \"https://cdn.pydata.org/bokeh/release/bokeh-widgets-0.12.4.min.js\"];\n",
       "\n",
       "  var inline_js = [\n",
       "    function(Bokeh) {\n",
       "      Bokeh.set_log_level(\"info\");\n",
       "    },\n",
       "    \n",
       "    function(Bokeh) {\n",
       "      \n",
       "      document.getElementById(\"728d73f9-5bfd-45e7-9b65-e4607ed79786\").textContent = \"BokehJS is loading...\";\n",
       "    },\n",
       "    function(Bokeh) {\n",
       "      console.log(\"Bokeh: injecting CSS: https://cdn.pydata.org/bokeh/release/bokeh-0.12.4.min.css\");\n",
       "      Bokeh.embed.inject_css(\"https://cdn.pydata.org/bokeh/release/bokeh-0.12.4.min.css\");\n",
       "      console.log(\"Bokeh: injecting CSS: https://cdn.pydata.org/bokeh/release/bokeh-widgets-0.12.4.min.css\");\n",
       "      Bokeh.embed.inject_css(\"https://cdn.pydata.org/bokeh/release/bokeh-widgets-0.12.4.min.css\");\n",
       "    }\n",
       "  ];\n",
       "\n",
       "  function run_inline_js() {\n",
       "    \n",
       "    if ((window.Bokeh !== undefined) || (force === true)) {\n",
       "      for (var i = 0; i < inline_js.length; i++) {\n",
       "        inline_js[i](window.Bokeh);\n",
       "      }if (force === true) {\n",
       "        display_loaded();\n",
       "      }} else if (Date.now() < window._bokeh_timeout) {\n",
       "      setTimeout(run_inline_js, 100);\n",
       "    } else if (!window._bokeh_failed_load) {\n",
       "      console.log(\"Bokeh: BokehJS failed to load within specified timeout.\");\n",
       "      window._bokeh_failed_load = true;\n",
       "    } else if (force !== true) {\n",
       "      var cell = $(document.getElementById(\"728d73f9-5bfd-45e7-9b65-e4607ed79786\")).parents('.cell').data().cell;\n",
       "      cell.output_area.append_execute_result(NB_LOAD_WARNING)\n",
       "    }\n",
       "\n",
       "  }\n",
       "\n",
       "  if (window._bokeh_is_loading === 0) {\n",
       "    console.log(\"Bokeh: BokehJS loaded, going straight to plotting\");\n",
       "    run_inline_js();\n",
       "  } else {\n",
       "    load_libs(js_urls, function() {\n",
       "      console.log(\"Bokeh: BokehJS plotting callback run at\", now());\n",
       "      run_inline_js();\n",
       "    });\n",
       "  }\n",
       "}(this));"
      ]
     },
     "metadata": {},
     "output_type": "display_data"
    },
    {
     "data": {
      "text/plain": [
       "0.04154756284372502"
      ]
     },
     "execution_count": 26,
     "metadata": {},
     "output_type": "execute_result"
    }
   ],
   "source": [
    "import numpy as np\n",
    "import scipy\n",
    "from scipy.io import loadmat\n",
    "import matplotlib.pyplot as plt\n",
    "import pandas as pd\n",
    "\n",
    "\n",
    "import seaborn as sns; sns.set()\n",
    "sns.set_style(\"whitegrid\")\n",
    "\n",
    "\n",
    "from bokeh.charts import BoxPlot, show\n",
    "from bokeh.io import push_notebook,show,output_notebook\n",
    "from bokeh.layouts import row\n",
    "from bokeh.plotting import figure \n",
    "output_notebook()\n",
    "\n",
    "# change for depths \n",
    "# PMT depths -  0.8 mm diameter , 2 mm length\n",
    "# spencer depth 1.12 mm diameter, 2.41 mm length\n",
    "\n",
    "r = 0.23/2\n",
    "area = np.pi*(r**2)\n",
    "\n",
    "depth_r = 0.08/2\n",
    "depth_h = 0.2\n",
    "depth_area = 2*np.pi*depth_r*depth_h\n",
    "depth_area = area\n",
    "\n",
    "\n",
    "current = np.array([1000])\n",
    "pulse_width = np.array([1e-4, 1e-3,1.2e-3])\n",
    "\n",
    "meshed_grid_x, meshed_grid_y = np.meshgrid(pulse_width,current)\n",
    "\n",
    "charge_per_phase= meshed_grid_x*meshed_grid_y\n",
    "\n",
    "log_charge_per_phase = np.log10(charge_per_phase)\n",
    "\n",
    "# look at charge/cm^2\n",
    "\n",
    "# charge density\n",
    "\n",
    "charge_density = charge_per_phase/area\n",
    "\n",
    "log_charge_density = np.log10(charge_density)\n",
    "\n",
    "# shannon \n",
    "k = 1.85\n",
    "q = np.arange(-1, 1.51,0.1)\n",
    "d = (1.85-(q))\n",
    "\n",
    "charge_density\n",
    "depth_area"
   ]
  },
  {
   "cell_type": "code",
   "execution_count": 30,
   "metadata": {},
   "outputs": [
    {
     "data": {
      "text/plain": [
       "0.08479786890569568"
      ]
     },
     "execution_count": 30,
     "metadata": {},
     "output_type": "execute_result"
    }
   ],
   "source": [
    "currentB = np.array([1000])\n",
    "pulse_widthB = np.array([1e-4, 1e-3,1.2e-3])\n",
    "depth_r_b = 0.112/2\n",
    "depth_h_b = 0.241\n",
    "area_b = 2*np.pi*depth_r_b*depth_h_b\n",
    "\n",
    "meshed_grid_xB, meshed_grid_yB = np.meshgrid(pulse_widthB,currentB)\n",
    "\n",
    "charge_per_phaseB = meshed_grid_xB*meshed_grid_yB\n",
    "\n",
    "log_charge_per_phaseB = np.log10(charge_per_phaseB)\n",
    "\n",
    "# look at charge/cm^2\n",
    "\n",
    "# charge density\n",
    "\n",
    "charge_densityB = charge_per_phaseB/area_b\n",
    "\n",
    "log_charge_densityB = np.log10(charge_densityB)\n",
    "\n",
    "charge_per_phaseB\n",
    "#charge_per_phase\n",
    "charge_densityB\n",
    "area_b"
   ]
  },
  {
   "cell_type": "code",
   "execution_count": 40,
   "metadata": {},
   "outputs": [
    {
     "data": {
      "image/png": "[encoded data removed]",
      "text/plain": [
       "<matplotlib.figure.Figure at 0x114f75438>"
      ]
     },
     "metadata": {},
     "output_type": "display_data"
    }
   ],
   "source": [
    "flat_log_d = np.ndarray.flatten(log_charge_density)\n",
    "flat_log_c = np.ndarray.flatten(log_charge_per_phase)\n",
    "flat_log_dB = np.ndarray.flatten(log_charge_densityB)\n",
    "flat_log_cB = np.ndarray.flatten(log_charge_per_phaseB)\n",
    "\n",
    "\n",
    "\n",
    "fig = plt.figure(figsize=(10,10))\n",
    "ax = fig.add_subplot(111)\n",
    "\n",
    "ax.scatter(flat_log_c,flat_log_d,label='sEEG')\n",
    "for i, txt in enumerate(pulse_width):\n",
    "   ax.annotate(str(1e3*txt ) + ' ms', (flat_log_c[i]-.03,flat_log_d[i]+.03))\n",
    "    \n",
    "ax.scatter(flat_log_cB,flat_log_dB,label = 'spencer depths')\n",
    "for i, txt in enumerate(pulse_width):\n",
    "    ax.annotate(str(1e3*txt ) + ' ms', (flat_log_cB[i]-.03,flat_log_dB[i]+.03))\n",
    "    \n",
    "\n",
    "plt.plot(q,d,linewidth=4,label='shannon line')\n",
    "plt.ylabel('log_10 charge density uC/cm^2')\n",
    "plt.xlabel('log_10 charge/phase uC/cm^2')\n",
    "plt.title(r'Current = {} $\\mu$ A'.format(current[0]))\n",
    "plt.legend()\n",
    "plt.show()\n"
   ]
  },
  {
   "cell_type": "code",
   "execution_count": 35,
   "metadata": {
    "scrolled": true
   },
   "outputs": [
    {
     "name": "stdout",
     "output_type": "stream",
     "text": [
      "the charge per phase is [ 0.1  1.   1.2] uC\n",
      "the charge per phase is [-1.          0.          0.07918125] log10 uC\n",
      "the charge density is [  2.40688005  24.06880047  28.88256056] uC/cm^2\n",
      "the charge per phase is [ 0.38145445  1.38145445  1.46063569] log10 uC/cm^2\n"
     ]
    }
   ],
   "source": [
    "\n",
    "charge_per_phase= pulse_widthB*current\n",
    "print('the charge per phase is {} uC'.format(charge_per_phase))\n",
    "\n",
    "# look at log10 like 2016 paper \n",
    "print('the charge per phase is {} log10 uC'.format(np.log10(charge_per_phase)))\n",
    "\n",
    "# look at charge/cm^2\n",
    "\n",
    "# charge density\n",
    "\n",
    "charge_density = charge_per_phase/area\n",
    "\n",
    "print('the charge density is {} uC/cm^2'.format(charge_density))\n",
    "\n",
    "# look at log10 \n",
    "\n",
    "print ('the charge per phase is {} log10 uC/cm^2'.format(np.log10(charge_density)))"
   ]
  },
  {
   "cell_type": "code",
   "execution_count": null,
   "metadata": {
    "collapsed": true
   },
   "outputs": [],
   "source": []
  },
  {
   "cell_type": "code",
   "execution_count": null,
   "metadata": {
    "collapsed": true
   },
   "outputs": [],
   "source": []
  }
 ],
 "metadata": {
  "kernelspec": {
   "display_name": "Python 3",
   "language": "python",
   "name": "python3"
  },
  "language_info": {
   "codemirror_mode": {
    "name": "ipython",
    "version": 3
   },
   "file_extension": ".py",
   "mimetype": "text/x-python",
   "name": "python",
   "nbconvert_exporter": "python",
   "pygments_lexer": "ipython3",
   "version": "3.6.1"
  }
 },
 "nbformat": 4,
 "nbformat_minor": 2
}
